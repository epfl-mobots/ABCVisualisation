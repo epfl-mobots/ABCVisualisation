{
 "cells": [
  {
   "cell_type": "code",
   "execution_count": 1,
   "metadata": {},
   "outputs": [],
   "source": [
    "import os, multiprocessing\n",
    "import matplotlib.pyplot as plt\n",
    "import cv2 as cv2\n",
    "import numpy as np\n",
    "from tqdm import tqdm\n",
    "from libvisu import *\n",
    "pd.set_option('display.max_columns', None)  # Show all columns\n",
    "pd.set_option('display.width', 1000)  # Set a wide width for display\n",
    "pd.set_option('display.colheader_justify', 'center')  # Align column headers"
   ]
  },
  {
   "cell_type": "markdown",
   "metadata": {},
   "source": [
    "### Select random timestamp and corresponding snapshot"
   ]
  },
  {
   "cell_type": "code",
   "execution_count": null,
   "metadata": {},
   "outputs": [],
   "source": [
    "### Here"
   ]
  },
  {
   "cell_type": "code",
   "execution_count": 2,
   "metadata": {},
   "outputs": [
    {
     "ename": "NameError",
     "evalue": "name 'hs_1' is not defined",
     "output_type": "error",
     "traceback": [
      "\u001b[0;31m---------------------------------------------------------------------------\u001b[0m",
      "\u001b[0;31mNameError\u001b[0m                                 Traceback (most recent call last)",
      "Cell \u001b[0;32mIn[2], line 1\u001b[0m\n\u001b[0;32m----> 1\u001b[0m img_rpi1 \u001b[38;5;241m=\u001b[39m \u001b[43mhs_1\u001b[49m\u001b[38;5;241m.\u001b[39mpp_imgs[\u001b[38;5;241m2\u001b[39m]\n\u001b[1;32m      2\u001b[0m \u001b[38;5;66;03m# imshow image\u001b[39;00m\n\u001b[1;32m      3\u001b[0m plt\u001b[38;5;241m.\u001b[39mfigure(figsize\u001b[38;5;241m=\u001b[39m(\u001b[38;5;241m10\u001b[39m,\u001b[38;5;241m6\u001b[39m))\n",
      "\u001b[0;31mNameError\u001b[0m: name 'hs_1' is not defined"
     ]
    }
   ],
   "source": [
    "img_rpi1 = hs_1.pp_imgs[2]\n",
    "# imshow image\n",
    "plt.figure(figsize=(10,6))\n",
    "plt.imshow(img_rpi1, cmap='gray')\n",
    "plt.show()\n",
    "\n",
    "# Perform edge detection\n",
    "edges = cv2.Canny(img_rpi1, 350, 450)\n",
    "# Plot the edges\n",
    "plt.figure(figsize=(10, 6))\n",
    "plt.imshow(edges, cmap='gray')\n",
    "plt.title(\"Edge Detection\")\n",
    "plt.axis('off')\n",
    "\n",
    "# Detect lines using Hough Transform\n",
    "lines = cv2.HoughLinesP(edges, 1, np.pi / 180, threshold=50, minLineLength=3500, maxLineGap=1200)\n",
    "\n",
    "# Create a copy of the original image to draw on\n",
    "output_image = img_rpi1.copy()\n",
    "if len(output_image.shape) == 2:  # Convert grayscale to BGR for colored drawing\n",
    "    output_image = cv2.cvtColor(output_image, cv2.COLOR_GRAY2BGR)\n",
    "\n",
    "# Keep only the horizontal lines\n",
    "if lines is not None:\n",
    "    lines = [line for line in lines if np.abs(line[0][1] - line[0][3]) < 10]\n",
    "else:\n",
    "    raise ValueError(\"No lines detected\")\n",
    "\n",
    "# Discard lines that are too low on the image\n",
    "lines = [line for line in lines if line[0][1] < img_rpi1.shape[0] * 0.9]\n",
    "\n",
    "# Find the line lowest on the image\n",
    "if lines is not None:\n",
    "    lowest_line = lines[np.argmax([line[0][1] for line in lines])]\n",
    "    x1, y1, x2, y2 = lowest_line[0]\n",
    "    print(x1, y1, x2, y2)\n",
    "    cv2.line(output_image, (x1, y1), (x2, y2), (0, 255, 0), 2)\n",
    "else:\n",
    "    raise ValueError(\"No horizontal lines detected\")\n",
    "\n",
    "# # Draw the lines on the image\n",
    "# line_lengths = []\n",
    "# if lines is not None:\n",
    "#     for line in lines:\n",
    "#         x1, y1, x2, y2 = line[0]\n",
    "#         line_lengths.append(np.sqrt((x2-x1)**2 + (y2-y1)**2))\n",
    "\n",
    "# # Draw the longest line\n",
    "# longest_line = lines[np.argmax(line_lengths)][0]\n",
    "# x1, y1, x2, y2 = longest_line\n",
    "# cv2.line(output_image, (x1, y1), (x2, y2), (0, 255, 0), 2)\n",
    "\n",
    "\n",
    "# Display the resulting image\n",
    "plt.figure(figsize=(10, 6))\n",
    "plt.imshow(cv2.cvtColor(output_image, cv2.COLOR_BGR2RGB))  # Convert BGR to RGB for proper display\n",
    "plt.title(\"Detected Straight Lines\")\n",
    "plt.axis('off')\n",
    "plt.show()"
   ]
  },
  {
   "cell_type": "code",
   "execution_count": null,
   "metadata": {},
   "outputs": [],
   "source": [
    "# Same cell as above but for vertical lines\n",
    "# Perform edge detection\n",
    "edges = cv2.Canny(img_rpi1, 350, 450)\n",
    "# Plot the edges\n",
    "plt.figure(figsize=(10, 6))\n",
    "plt.imshow(edges, cmap='gray')\n",
    "plt.title(\"Edge Detection\")\n",
    "plt.axis('off')\n",
    "\n",
    "# Detect lines using Hough Transform\n",
    "lines = cv2.HoughLinesP(edges, 1, np.pi / 180, threshold=50, minLineLength=2000, maxLineGap=600)\n",
    "\n",
    "# Create a copy of the original image to draw on\n",
    "output_image = img_rpi1.copy()\n",
    "if len(output_image.shape) == 2:  # Convert grayscale to BGR for colored drawing\n",
    "    output_image = cv2.cvtColor(output_image, cv2.COLOR_GRAY2BGR)\n",
    "\n",
    "# Keep only the vertical lines\n",
    "if lines is not None:\n",
    "    lines = [line for line in lines if np.abs(line[0][0] - line[0][2]) < 10]\n",
    "\n",
    "# Discard the lines that are too close to the left border (within 10 pixels)\n",
    "if lines is not None:\n",
    "    lines = [line for line in lines if line[0][0] > 10]\n",
    "\n",
    "# Plot the line that is most to the left\n",
    "if lines is not None:\n",
    "    leftmost_line = lines[np.argmin([line[0][0] for line in lines])]\n",
    "    x1, y1, x2, y2 = leftmost_line[0]\n",
    "    print(x1, y1, x2, y2)\n",
    "    cv2.line(output_image, (x1, y1), (x2, y2), (0, 255, 0), 2)\n",
    "\n",
    "# Display the resulting image\n",
    "plt.figure(figsize=(10, 6))\n",
    "plt.imshow(cv2.cvtColor(output_image, cv2.COLOR_BGR2RGB))  # Convert BGR to RGB for proper display\n",
    "plt.title(\"Detected Straight Lines\")\n",
    "plt.axis('off')\n",
    "plt.show()"
   ]
  }
 ],
 "metadata": {
  "kernelspec": {
   "display_name": "imaging",
   "language": "python",
   "name": "python3"
  },
  "language_info": {
   "codemirror_mode": {
    "name": "ipython",
    "version": 3
   },
   "file_extension": ".py",
   "mimetype": "text/x-python",
   "name": "python",
   "nbconvert_exporter": "python",
   "pygments_lexer": "ipython3",
   "version": "3.11.0"
  }
 },
 "nbformat": 4,
 "nbformat_minor": 2
}
