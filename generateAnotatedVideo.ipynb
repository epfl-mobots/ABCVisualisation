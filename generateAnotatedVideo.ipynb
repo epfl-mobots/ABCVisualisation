{
 "cells": [
  {
   "cell_type": "code",
   "execution_count": null,
   "metadata": {},
   "outputs": [],
   "source": [
    "import multiprocessing, cv2, os\n",
    "import matplotlib.pyplot as plt\n",
    "import numpy as np\n",
    "from tqdm import tqdm\n",
    "from libvisu import *\n",
    "from ABCImaging.libimage import fetchImagesPaths\n",
    "from ABCImaging.VideoManagment.videolib import generateVideoFromList\n",
    "pd.set_option('display.max_columns', None)  # Show all columns\n",
    "pd.set_option('display.width', 1000)  # Set a wide width for display\n",
    "pd.set_option('display.colheader_justify', 'center')  # Align column headers"
   ]
  },
  {
   "cell_type": "markdown",
   "metadata": {},
   "source": [
    "## Configuration"
   ]
  },
  {
   "cell_type": "code",
   "execution_count": null,
   "metadata": {},
   "outputs": [],
   "source": [
    "# Path to the folder containing the pictures\n",
    "rootpath_imgs = '/Users/cyrilmonette/Library/CloudStorage/SynologyDrive-data/24.11-25.01_metabolism_OH/Images/'                         # For images\n",
    "rootpath_data = 'data/2025-01-03_13-06_influxdb_data.csv'  # For CO2, htr and tmp data\n",
    "hive_nb = \"1\" \n",
    "t_res = \"1min\" # Image time resolution. Change only if images are not taken every minute. Use frame_drop to keep only some frames, not this.\n",
    "\n",
    "first_dt = \"241215-120000Z\"\n",
    "last_dt = \"241218-040000Z\"\n",
    "frame_drop = 10 # We keep 1 frame every frame_drop frames. Put one to keep all frames."
   ]
  },
  {
   "cell_type": "markdown",
   "metadata": {},
   "source": [
    "## Running"
   ]
  },
  {
   "cell_type": "markdown",
   "metadata": {},
   "source": [
    "#### Image fetching"
   ]
  },
  {
   "cell_type": "code",
   "execution_count": null,
   "metadata": {},
   "outputs": [],
   "source": [
    "# Get the target dt (for which we need an image, data, etc.)\n",
    "datetimes = pd.date_range(start=pd.to_datetime(first_dt, format='%y%m%d-%H%M%S%z'), end=pd.to_datetime(last_dt, format='%y%m%d-%H%M%S%z'), freq=t_res)\n",
    "datetimes = datetimes[::frame_drop]\n",
    "\n",
    "imgs_paths = fetchImagesPaths(rootpath_imgs, datetimes, hive_nb)"
   ]
  },
  {
   "cell_type": "markdown",
   "metadata": {},
   "source": [
    "#### tmp fetching"
   ]
  },
  {
   "cell_type": "code",
   "execution_count": null,
   "metadata": {},
   "outputs": [],
   "source": [
    "# We fetch the thermal and other sensory data from the hive, for both RPis.\n",
    "rootpath_data = os.path.abspath(rootpath_data) # Absolute path to the data\n",
    "all_data = prepareData(rootpath_data)                   # All data in the csv nicely formatted\n",
    "hive_data = extractData(all_data, int(hive_nb), datetimes) # Restricted to our time frame and hive\n",
    "upper, lower = generateThermalDF(hive_data,datetimes)   # Only tmp data, in a format that can be used by ThermalFrame\n",
    "# Seek the max and min values of the tmp data, in both upper and lower hives\n",
    "max_temp = max(upper.max().max(), lower.max().max())\n",
    "min_temp = min(upper.min().min(), lower.min().min())\n",
    "print(\"Max temperature in the selected time range: \", max_temp)\n",
    "print(\"Min temperature in the selected time range: \", min_temp)\n",
    "print(upper)"
   ]
  },
  {
   "cell_type": "markdown",
   "metadata": {},
   "source": [
    "#### Metabolic data fetching"
   ]
  },
  {
   "cell_type": "code",
   "execution_count": null,
   "metadata": {},
   "outputs": [],
   "source": [
    "# Now we fetch the metabolic data\n",
    "co2_data =generateMetabolicDF(hive_data)\n",
    "print(co2_data)"
   ]
  },
  {
   "cell_type": "markdown",
   "metadata": {},
   "source": [
    "#### htr fetching"
   ]
  },
  {
   "cell_type": "code",
   "execution_count": null,
   "metadata": {},
   "outputs": [],
   "source": [
    "# Alternative used now:\n",
    "upper_htr = hive_data[(hive_data[\"inhive_loc\"] == \"upper\") & (hive_data[\"_measurement\"] == \"htr\")]\n",
    "lower_htr = hive_data[(hive_data[\"inhive_loc\"] == \"lower\") & (hive_data[\"_measurement\"] == \"htr\")]\n",
    "# Drop the _measurement column\n",
    "upper_htr = upper_htr.drop(columns=[\"_measurement\"])\n",
    "lower_htr = lower_htr.drop(columns=[\"_measurement\"])\n",
    "print(upper_htr)"
   ]
  },
  {
   "cell_type": "markdown",
   "metadata": {},
   "source": [
    "#### Plotting"
   ]
  },
  {
   "cell_type": "code",
   "execution_count": null,
   "metadata": {},
   "outputs": [],
   "source": [
    "vmax = max_temp\n",
    "vmin = min_temp\n",
    "# For a random time frame, generate the image of the hive and the thermal plot side by side with matplotlib\n",
    "# This is just to check that everything is working fine\n",
    "plt.figure(figsize=(18, 12))\n",
    "frame = 100 # Frame within datetimes\n",
    "dt = datetimes[frame]\n",
    "_imgs_paths = imgs_paths.loc[dt].to_numpy()\n",
    "imgs_names = [str(_imgs_paths[i]).split(\"/\")[-1] for i in range(len(_imgs_paths))]\n",
    "# Read the images using cv2\n",
    "current_imgs = [cv2.imread(_imgs_paths[i], cv2.IMREAD_GRAYSCALE) if _imgs_paths[i] is not None else np.zeros((2592,4608), np.uint8) for i in range(len(_imgs_paths))]\n",
    "\n",
    "hs_1 = Hive(current_imgs,imgs_names,ThermalFrame(upper.loc[dt].to_numpy()),ThermalFrame(lower.loc[dt].to_numpy()),co2_data.loc[dt],upper_htr.loc[dt],lower_htr.loc[dt])\n",
    "contours = list(range(6, 32, 2))\n",
    "snapshot = hs_1.snapshot(v_max=vmax,v_min=vmin,contours=contours,thermal_transparency=0.35)\n",
    "plt.imshow(snapshot,cmap='gray')\n",
    "plt.axis('off') \n",
    "plt.show()"
   ]
  },
  {
   "cell_type": "markdown",
   "metadata": {},
   "source": [
    "#### Automation"
   ]
  },
  {
   "cell_type": "code",
   "execution_count": null,
   "metadata": {},
   "outputs": [],
   "source": [
    "final_imgs = []\n",
    "print(\"Generating frames...\")\n",
    "for dt in tqdm(datetimes):\n",
    "    _imgs_paths = imgs_paths.loc[dt].to_numpy()\n",
    "    imgs_names = [str(_imgs_paths[j]).split(\"/\")[-1] for j in range(len(_imgs_paths))]\n",
    "    # Read the images using cv2\n",
    "    current_imgs = []\n",
    "    for _img_path in _imgs_paths:\n",
    "        if _img_path is not None:\n",
    "            img = cv2.imread(_img_path, cv2.IMREAD_GRAYSCALE)\n",
    "            current_imgs.append(img)\n",
    "        else:\n",
    "            current_imgs.append(np.zeros((2592,4608), np.uint8))\n",
    "            \n",
    "    hs = Hive(current_imgs, imgs_names, ThermalFrame(upper.loc[dt].to_numpy()), ThermalFrame(lower.loc[dt].to_numpy()), co2_data.loc[dt], upper_htr.loc[dt], lower_htr.loc[dt])\n",
    "    snapshot = hs.snapshot(v_max=max_temp, v_min=min_temp,contours=contours,thermal_transparency=0.4)\n",
    "\n",
    "    final_imgs.append(snapshot)\n",
    "\n",
    "# Change frames from rgb to bgr\n",
    "print(\"Convert frames to bgr...\")\n",
    "for i in tqdm(range(len(final_imgs))):\n",
    "    final_imgs[i] = cv2.cvtColor(final_imgs[i], cv2.COLOR_RGB2BGR)\n",
    "\n",
    "dest = \"outputVideos/\"\n",
    "# Make this a global path\n",
    "print(\"Saving video...\")\n",
    "generateVideoFromList(final_imgs, dest=\"outputVideos/\", name=\"hive\" + hive_nb + \"_\" + first_dt + \"_\" + last_dt, fps=10, grayscale=False)\n",
    "\n",
    "# Cleanup step to release resources\n",
    "multiprocessing.active_children()"
   ]
  }
 ],
 "metadata": {
  "kernelspec": {
   "display_name": "imaging",
   "language": "python",
   "name": "python3"
  },
  "language_info": {
   "codemirror_mode": {
    "name": "ipython",
    "version": 3
   },
   "file_extension": ".py",
   "mimetype": "text/x-python",
   "name": "python",
   "nbconvert_exporter": "python",
   "pygments_lexer": "ipython3",
   "version": "3.11.0"
  }
 },
 "nbformat": 4,
 "nbformat_minor": 2
}
