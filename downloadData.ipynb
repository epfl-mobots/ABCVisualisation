{
 "cells": [
  {
   "cell_type": "markdown",
   "metadata": {},
   "source": [
    "## This nb is used to download data from influxdb into csv files"
   ]
  },
  {
   "cell_type": "markdown",
   "metadata": {},
   "source": [
    "### Setup"
   ]
  },
  {
   "cell_type": "code",
   "execution_count": 1,
   "metadata": {},
   "outputs": [],
   "source": [
    "from influxdb_client import InfluxDBClient as InfluxDBClientv2\n",
    "from influxdb_client.client.write_api import SYNCHRONOUS\n",
    "import time, csv\n",
    "\n",
    "# configuration of the database\n",
    "host = 'stivm0016.xaas.epfl.ch'\n",
    "port = 48086\n",
    "token = 'dGGmbSVDyWnv03ZS1DDyZvea9o5UkrFRbhMYXANJkXG0RjjIWU5ojSVVyGzrlrwBU93mJ-vKmJgnysUsFWtlKg=='\n",
    "org = 'Bassenges'\n",
    "\n",
    "# open a connection to the DB\n",
    "url = f\"http://{host}:{port}\"\n",
    "client = InfluxDBClientv2(url=url, token=token)\n",
    "query_api = client.query_api()"
   ]
  },
  {
   "cell_type": "markdown",
   "metadata": {},
   "source": [
    "### Configuration"
   ]
  },
  {
   "cell_type": "code",
   "execution_count": null,
   "metadata": {},
   "outputs": [],
   "source": [
    "first_dt = \"2024-11-01T00:01:00Z\"\n",
    "last_dt = \"2024-11-15T16:00:00Z\"\n",
    "res = 60 # resolution in seconds\n",
    "bucket = \"a_sensing\"\n",
    "measurements = [\"co2\", \"htr\",\"tmp\"]"
   ]
  },
  {
   "cell_type": "markdown",
   "metadata": {},
   "source": [
    "### Querying"
   ]
  },
  {
   "cell_type": "code",
   "execution_count": 3,
   "metadata": {},
   "outputs": [
    {
     "name": "stdout",
     "output_type": "stream",
     "text": [
      "from(bucket:\"a_sensing\") |> range(start: 2024-11-01T00:01:00Z, stop: 2024-11-15T16:00:00Z) |> filter(fn: (r) => r[\"_measurement\"] == \"co2\" or r[\"_measurement\"] == \"htr\" or r[\"_measurement\"] == \"tmp\") |> aggregateWindow(every: 60s, fn: mean, createEmpty: false)\n",
      "Data saved to data/2025-03-14_18-00_influxdb_data.csv\n"
     ]
    }
   ],
   "source": [
    "# get the data from influx following the configuration above. Measurements is a list of the measurements to filter on.\n",
    "query = f'from(bucket:\"{bucket}\") |> range(start: {first_dt}, stop: {last_dt}) |> filter(fn: (r) => r[\"_measurement\"] == \"{measurements[0]}\"'\n",
    "for m in measurements[1:]:\n",
    "    query += f' or r[\"_measurement\"] == \"{m}\"'\n",
    "query += ')'\n",
    "# Implement the resolution to compute mean values\n",
    "query += f' |> aggregateWindow(every: {res}s, fn: mean, createEmpty: false)'\n",
    "print(query)\n",
    "# Query this data to retrieve a single table (put None for empty tags)\n",
    "tables = query_api.query(org=org, query=query)\n",
    "#save the data as a commented csv file in the data/ folder. Put the current datetime _influxdb_data as the filename\n",
    "current_time = time.strftime(\"%Y-%m-%d_%H-%M\")\n",
    "filename = f\"data/{current_time}_influxdb_data.csv\"\n",
    "\n",
    "# Extract and save data to a CSV file\n",
    "with open(filename, 'w', newline='') as csvfile:\n",
    "    # Define the CSV writer\n",
    "    csv_writer = csv.writer(csvfile)\n",
    "\n",
    "    # Initialize a variable to keep track of the current headers\n",
    "    current_headers = None\n",
    "\n",
    "    # Process tables and records\n",
    "    for table in tables:\n",
    "        for record in table.records:\n",
    "            # Convert record to a dictionary for structured data\n",
    "            record_dict = record.values\n",
    "\n",
    "            # Get the headers of the current record\n",
    "            headers = record_dict.keys()\n",
    "\n",
    "            # Write headers if they are different from the current headers\n",
    "            if headers != current_headers:\n",
    "                csv_writer.writerow(['#'])\n",
    "                csv_writer.writerow(headers)\n",
    "                current_headers = headers\n",
    "\n",
    "            # Write the record values\n",
    "            csv_writer.writerow(record_dict.values())\n",
    "\n",
    "print(f\"Data saved to {filename}\")"
   ]
  }
 ],
 "metadata": {
  "kernelspec": {
   "display_name": "abc",
   "language": "python",
   "name": "python3"
  },
  "language_info": {
   "codemirror_mode": {
    "name": "ipython",
    "version": 3
   },
   "file_extension": ".py",
   "mimetype": "text/x-python",
   "name": "python",
   "nbconvert_exporter": "python",
   "pygments_lexer": "ipython3",
   "version": "3.11.2"
  }
 },
 "nbformat": 4,
 "nbformat_minor": 2
}
