{
 "cells": [
  {
   "cell_type": "markdown",
   "metadata": {},
   "source": [
    "# This nb is used to download data from influxdb into csv files"
   ]
  },
  {
   "cell_type": "markdown",
   "metadata": {},
   "source": [
    "## Imports"
   ]
  },
  {
   "cell_type": "code",
   "execution_count": 1,
   "metadata": {},
   "outputs": [],
   "source": [
    "import time, csv\n",
    "import pandas as pd\n",
    "from InfluxDBInterface.libdb import download_data_DB"
   ]
  },
  {
   "cell_type": "markdown",
   "metadata": {},
   "source": [
    "## Configuration"
   ]
  },
  {
   "cell_type": "code",
   "execution_count": 2,
   "metadata": {},
   "outputs": [],
   "source": [
    "first_dt = \"2025-10-01T00:00:00Z\"\n",
    "last_dt = \"2025-10-03T08:00:00Z\"\n",
    "res = 10 # resolution in seconds\n",
    "bucket = \"a_sensing\"\n",
    "filters = {\n",
    "    \"measurement\": [\"co2\", \"htr\", \"tmp\"],\n",
    "    \"hive_num\": 1\n",
    "}\n",
    "filename = f\"{time.strftime('%Y-%m-%d_%H-%M')}_influxdb_data\"\n",
    "destination = \"data\"\n",
    "verbose = False"
   ]
  },
  {
   "cell_type": "markdown",
   "metadata": {},
   "source": [
    "## Querying"
   ]
  },
  {
   "cell_type": "code",
   "execution_count": null,
   "metadata": {},
   "outputs": [
    {
     "name": "stdout",
     "output_type": "stream",
     "text": [
      "Downloading data from 2025-10-01T00:00:00Z to 2025-10-03T08:00:00Z with a resolution of 10 seconds\n"
     ]
    },
    {
     "ename": "SyntaxError",
     "evalue": "'return' outside function (919014188.py, line 6)",
     "output_type": "error",
     "traceback": [
      "\u001b[0;36m  Cell \u001b[0;32mIn[3], line 6\u001b[0;36m\u001b[0m\n\u001b[0;31m    return\u001b[0m\n\u001b[0m    ^\u001b[0m\n\u001b[0;31mSyntaxError\u001b[0m\u001b[0;31m:\u001b[0m 'return' outside function\n"
     ]
    }
   ],
   "source": [
    "start_ts = pd.Timestamp(first_dt)\n",
    "end_ts = pd.Timestamp(last_dt)\n",
    "print(f\"Downloading data from {first_dt} to {last_dt} with a resolution of {res} seconds\")\n",
    "data = download_data_DB(bucket, start_ts, end_ts, res, filters, destination, filename, verbose)"
   ]
  }
 ],
 "metadata": {
  "kernelspec": {
   "display_name": "imaging",
   "language": "python",
   "name": "python3"
  },
  "language_info": {
   "codemirror_mode": {
    "name": "ipython",
    "version": 3
   },
   "file_extension": ".py",
   "mimetype": "text/x-python",
   "name": "python",
   "nbconvert_exporter": "python",
   "pygments_lexer": "ipython3",
   "version": "3.11.0"
  }
 },
 "nbformat": 4,
 "nbformat_minor": 2
}
